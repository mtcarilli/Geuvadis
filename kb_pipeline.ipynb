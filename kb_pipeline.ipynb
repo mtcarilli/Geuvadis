{
  "cells": [
    {
      "cell_type": "markdown",
      "metadata": {
        "id": "view-in-github",
        "colab_type": "text"
      },
      "source": [
        "<a href=\"https://colab.research.google.com/github/mtcarilli/Geuvadis/blob/main/kb_pipeline.ipynb\" target=\"_parent\"><img src=\"https://colab.research.google.com/assets/colab-badge.svg\" alt=\"Open In Colab\"/></a>"
      ]
    },
    {
      "cell_type": "markdown",
      "source": [
        "# Aligning Geuvadis data with kb-python\n",
        "\n",
        "\n",
        "This notebook aligns raw bulk RNA FASTQ files from the Geuvadis project [1] with kb-python [2] to produce pseudo-aligned abundances per gene. It aligns samples given a list of Geuvadis run ERR IDs, which can be changed as desired.\n",
        "\n",
        "\n",
        "\n",
        "\n",
        "<sub><sup> [1] Lappalainen, T., Sammeth, M., Friedländer, M. et al. Transcriptome and genome sequencing uncovers functional variation in humans. Nature 501, 506–511 (2013). https://doi.org/10.1038/nature12531 <sup/><sub/>\n",
        "\n",
        "<sub><sup>[2] Melsted, P., Booeshaghi, A.S., et al.\n",
        "Modular, efficient and constant-memory single-cell RNA-seq preprocessing.\n",
        "Nat Biotechnol  39, 813–818 (2021).\n",
        "https://doi.org/10.1038/s41587-021-00870-2 <sup/><sub/>"
      ],
      "metadata": {
        "id": "D7caJ6OU4Obl"
      }
    },
    {
      "cell_type": "code",
      "execution_count": null,
      "metadata": {
        "colab": {
          "base_uri": "https://localhost:8080/"
        },
        "id": "10JcUzOveb6P",
        "outputId": "84eff191-a2e8-4e3e-967f-8cc55a6ba9c4"
      },
      "outputs": [
        {
          "name": "stdout",
          "output_type": "stream",
          "text": [
            "\u001b[2K     \u001b[90m━━━━━━━━━━━━━━━━━━━━━━━━━━━━━━━━━━━━━━━━\u001b[0m \u001b[32m43.1/43.1 MB\u001b[0m \u001b[31m7.2 MB/s\u001b[0m eta \u001b[36m0:00:00\u001b[0m\n",
            "\u001b[2K     \u001b[90m━━━━━━━━━━━━━━━━━━━━━━━━━━━━━━━━━━━━━━━━\u001b[0m \u001b[32m13.1/13.1 MB\u001b[0m \u001b[31m12.8 MB/s\u001b[0m eta \u001b[36m0:00:00\u001b[0m\n",
            "\u001b[2K     \u001b[90m━━━━━━━━━━━━━━━━━━━━━━━━━━━━━━━━━━━━━━━━\u001b[0m \u001b[32m25.2/25.2 MB\u001b[0m \u001b[31m23.2 MB/s\u001b[0m eta \u001b[36m0:00:00\u001b[0m\n",
            "\u001b[2K     \u001b[90m━━━━━━━━━━━━━━━━━━━━━━━━━━━━━━━━━━━━━━━━\u001b[0m \u001b[32m121.0/121.0 kB\u001b[0m \u001b[31m9.8 MB/s\u001b[0m eta \u001b[36m0:00:00\u001b[0m\n",
            "\u001b[2K     \u001b[90m━━━━━━━━━━━━━━━━━━━━━━━━━━━━━━━━━━━━━━━━\u001b[0m \u001b[32m4.8/4.8 MB\u001b[0m \u001b[31m27.0 MB/s\u001b[0m eta \u001b[36m0:00:00\u001b[0m\n",
            "\u001b[?25h  Preparing metadata (setup.py) ... \u001b[?25l\u001b[?25hdone\n",
            "\u001b[2K     \u001b[90m━━━━━━━━━━━━━━━━━━━━━━━━━━━━━━━━━━━━━━━━\u001b[0m \u001b[32m45.2/45.2 MB\u001b[0m \u001b[31m6.0 MB/s\u001b[0m eta \u001b[36m0:00:00\u001b[0m\n",
            "\u001b[2K     \u001b[90m━━━━━━━━━━━━━━━━━━━━━━━━━━━━━━━━━━━━━━━━\u001b[0m \u001b[32m2.0/2.0 MB\u001b[0m \u001b[31m43.0 MB/s\u001b[0m eta \u001b[36m0:00:00\u001b[0m\n",
            "\u001b[2K     \u001b[90m━━━━━━━━━━━━━━━━━━━━━━━━━━━━━━━━━━━━━━━━\u001b[0m \u001b[32m21.9/21.9 MB\u001b[0m \u001b[31m29.5 MB/s\u001b[0m eta \u001b[36m0:00:00\u001b[0m\n",
            "\u001b[?25h  Preparing metadata (setup.py) ... \u001b[?25l\u001b[?25hdone\n",
            "\u001b[2K     \u001b[90m━━━━━━━━━━━━━━━━━━━━━━━━━━━━━━━━━━━━━━━━\u001b[0m \u001b[32m90.9/90.9 kB\u001b[0m \u001b[31m6.3 MB/s\u001b[0m eta \u001b[36m0:00:00\u001b[0m\n",
            "\u001b[?25h  Preparing metadata (setup.py) ... \u001b[?25l\u001b[?25hdone\n",
            "\u001b[2K     \u001b[90m━━━━━━━━━━━━━━━━━━━━━━━━━━━━━━━━━━━━━━━━\u001b[0m \u001b[32m1.6/1.6 MB\u001b[0m \u001b[31m41.2 MB/s\u001b[0m eta \u001b[36m0:00:00\u001b[0m\n",
            "\u001b[2K     \u001b[90m━━━━━━━━━━━━━━━━━━━━━━━━━━━━━━━━━━━━━━━━\u001b[0m \u001b[32m55.8/55.8 kB\u001b[0m \u001b[31m4.8 MB/s\u001b[0m eta \u001b[36m0:00:00\u001b[0m\n",
            "\u001b[2K     \u001b[90m━━━━━━━━━━━━━━━━━━━━━━━━━━━━━━━━━━━━━━━━\u001b[0m \u001b[32m79.8/79.8 kB\u001b[0m \u001b[31m7.0 MB/s\u001b[0m eta \u001b[36m0:00:00\u001b[0m\n",
            "\u001b[?25h  Building wheel for loompy (setup.py) ... \u001b[?25l\u001b[?25hdone\n",
            "  Building wheel for umap-learn (setup.py) ... \u001b[?25l\u001b[?25hdone\n",
            "  Building wheel for session-info (setup.py) ... \u001b[?25l\u001b[?25hdone\n"
          ]
        }
      ],
      "source": [
        "# install necessary packages\n",
        "!pip install gget kb-python anndata scanpy -q"
      ]
    },
    {
      "cell_type": "code",
      "source": [
        "# import necessary packages\n",
        "import scanpy as sc\n",
        "import anndata as ad\n",
        "import pandas as pd"
      ],
      "metadata": {
        "id": "1EGqMxI_4L3g"
      },
      "execution_count": 4,
      "outputs": []
    },
    {
      "cell_type": "code",
      "source": [
        "# download sample metadata\n",
        "!wget -O sample_subset_metadata.tsv -L https://raw.githubusercontent.com/mtcarilli/Geuvadis/main/pipeline/sample_subset_metadata.csv\n",
        "\n",
        "# read in sample metadata\n",
        "sample_metadata = pd.read_csv('./sample_subset_metadata.tsv')"
      ],
      "metadata": {
        "colab": {
          "base_uri": "https://localhost:8080/"
        },
        "id": "ZeDKtu4C71vR",
        "outputId": "f8763f38-fef9-46c6-ca76-c950448237dd"
      },
      "execution_count": 5,
      "outputs": [
        {
          "output_type": "stream",
          "name": "stdout",
          "text": [
            "--2024-02-13 05:39:05--  https://raw.githubusercontent.com/mtcarilli/Geuvadis/main/pipeline/sample_subset_metadata.csv\n",
            "Resolving raw.githubusercontent.com (raw.githubusercontent.com)... 185.199.108.133, 185.199.109.133, 185.199.110.133, ...\n",
            "Connecting to raw.githubusercontent.com (raw.githubusercontent.com)|185.199.108.133|:443... connected.\n",
            "HTTP request sent, awaiting response... 200 OK\n",
            "Length: 29044 (28K) [text/plain]\n",
            "Saving to: ‘sample_subset_metadata.tsv’\n",
            "\n",
            "\r          sample_su   0%[                    ]       0  --.-KB/s               \rsample_subset_metad 100%[===================>]  28.36K  --.-KB/s    in 0.002s  \n",
            "\n",
            "2024-02-13 05:39:06 (15.7 MB/s) - ‘sample_subset_metadata.tsv’ saved [29044/29044]\n",
            "\n"
          ]
        }
      ]
    },
    {
      "cell_type": "code",
      "source": [
        "# subset to desired ERR IDs (runs), likely based on population\n",
        "pop = 'Tuscan'\n",
        "selected_ERRs = sample_metadata[sample_metadata.Ancestry.isin([pop])].Run.values\n",
        "with open(f'./selected_ERRs.txt', 'w') as f:\n",
        "    for ERR in selected_ERRs:\n",
        "        f.write(f\"{ERR}\\n\")"
      ],
      "metadata": {
        "id": "Mls_QPOn8MXd"
      },
      "execution_count": 19,
      "outputs": []
    },
    {
      "cell_type": "code",
      "execution_count": null,
      "metadata": {
        "colab": {
          "base_uri": "https://localhost:8080/"
        },
        "id": "OsPPKZ-3OHnC",
        "outputId": "287b05a9-d1e9-4130-ac42-7b9477e1bef4"
      },
      "outputs": [
        {
          "name": "stdout",
          "output_type": "stream",
          "text": [
            "[2024-02-12 23:50:57,008]    INFO [download] Skipping download because some files already exist. Use the --overwrite flag to overwrite.\n"
          ]
        }
      ],
      "source": [
        "# create kallisto index and transcript to gene mapping\n",
        "# !kb ref -i index.idx -g t2g.txt -f1 cdna.fasta $(gget ref --ftp -w dna,gtf human)\n",
        "\n",
        "\n",
        "# OR download prebuilt reference --> faster\n",
        "!kb ref -d human -i index.idx -g t2g.txt"
      ]
    },
    {
      "cell_type": "code",
      "execution_count": 7,
      "metadata": {
        "id": "NC6eylexOac5"
      },
      "outputs": [],
      "source": [
        "# kb count a given population\n",
        "# !kb count -i index.idx -g t2g.txt --parity=paired -x bulk -m 9G -t 2 -o ./ERR --tcc ERR188026_1.fastq.gz ERR188026_2.fastq.gz\n",
        "\n",
        "\n",
        "# !mkfifo R1.gz R2.gz; curl -Ls ftp://ftp.sra.ebi.ac.uk/vol1/fastq/ERR188/ERR188026/ERR188026_1.fastq.gz R1.gz & curl -Ls ftp://ftp.sra.ebi.ac.uk/vol1/fastq/ERR188/ERR188026/ERR188026_2.fastq.gz > R2.gz & kb count -i index.idx -g t2g.txt --parity=paired -x bulk -m 9G -t 2 -o ./ERR --tcc R1.gz R2.gz\n"
      ]
    },
    {
      "cell_type": "code",
      "source": [
        "# loop through all provided Geuvadis ERR runs, align them, store genes.abundance.mtx and genes.abundance.tpm.mtx\n",
        "%%bash\n",
        "while IFS= read -r line; do\n",
        "    wget ftp://ftp.sra.ebi.ac.uk/vol1/fastq/ERR188/${line}/${line}_1.fastq.gz\n",
        "    wget ftp://ftp.sra.ebi.ac.uk/vol1/fastq/ERR188/${line}/${line}_2.fastq.gz\n",
        "    kb count -i index.idx -g t2g.txt --parity=paired -x bulk -m 9G -t 2 -o ./out/$line --tcc ${line}_1.fastq.gz ${line}_2.fastq.gz\n",
        "    rm ${line}_1.fastq.gz\n",
        "    rm ${line}_2.fastq.gz\n",
        "    rm -rf ./out/$line/counts_unfiltered/\n",
        "done < selected_ERRs.txt"
      ],
      "metadata": {
        "colab": {
          "base_uri": "https://localhost:8080/"
        },
        "id": "qlJTCZ4x5_hC",
        "outputId": "a937f90c-392b-48de-e9da-b78865ac4c4c"
      },
      "execution_count": 16,
      "outputs": [
        {
          "output_type": "stream",
          "name": "stdout",
          "text": [
            "Process is interrupted.\n"
          ]
        }
      ]
    },
    {
      "cell_type": "code",
      "execution_count": 23,
      "metadata": {
        "id": "9DtfNox6E8eh"
      },
      "outputs": [],
      "source": [
        "# load in first aligned sample\n",
        "ERR = selected_ERRs[0]\n",
        "adata_tpm = sc.read_mtx(f'./out/{ERR}/quant_unfiltered/matrix.abundance.gene.tpm.mtx')\n",
        "adata_tpm.obs.index = [ERR]\n",
        "adata_tpm.var.index = pd.read_csv(f'./out/{ERR}/quant_unfiltered/genes.txt',sep=' ',header=None).iloc[:,0].values\n",
        "\n",
        "\n",
        "# loop through all other aligned samples, create concatenated adata object\n",
        "for ERR in selected_ERRs[1:1]:\n",
        "\n",
        "  adata_tpm_ = sc.read_mtx(f'./out/{ERR}/quant_unfiltered/matrix.abundance.gene.tpm.mtx')\n",
        "  adata_tpm_.obs.index = [ERR]\n",
        "  adata_tpm_.var.index = pd.read_csv(f'./out/{ERR}/quant_unfiltered/genes.txt',sep=' ',header=None).iloc[:,0].values\n",
        "\n",
        "  adata_tpm = ad.concat((adata_tpm,adata_tpm_),join='outer',fill_value=0.0)"
      ]
    },
    {
      "cell_type": "code",
      "source": [
        "# load in first aligned sample\n",
        "ERR = selected_ERRs[0]\n",
        "adata = sc.read_mtx(f'./out/{ERR}/quant_unfiltered/matrix.abundance.gene.mtx')\n",
        "adata.obs.index = [ERR]\n",
        "adata.var.index = pd.read_csv(f'./out/{ERR}/quant_unfiltered/genes.txt',sep=' ',header=None).iloc[:,0].values\n",
        "\n",
        "\n",
        "# loop through all other aligned samples, create concatenated adata object\n",
        "for ERR in selected_ERRs[1:1]:\n",
        "\n",
        "  adata_ = sc.read_mtx(f'./out/{ERR}/quant_unfiltered/matrix.abundance.gene.mtx')\n",
        "  adata_.obs.index = [ERR]\n",
        "  adata_.var.index = pd.read_csv(f'./out/{ERR}/quant_unfiltered/genes.txt',sep=' ',header=None).iloc[:,0].values\n",
        "\n",
        "  adata = ad.concat((adata,adata_),join='outer',fill_value=0.0)"
      ],
      "metadata": {
        "colab": {
          "base_uri": "https://localhost:8080/"
        },
        "id": "DwhApgi7GOPD",
        "outputId": "fc7801c9-2e20-4793-f5b6-7603f6da6da8"
      },
      "execution_count": 30,
      "outputs": [
        {
          "output_type": "execute_result",
          "data": {
            "text/plain": [
              "matrix([[999999.9]], dtype=float32)"
            ]
          },
          "metadata": {},
          "execution_count": 30
        }
      ]
    },
    {
      "cell_type": "code",
      "execution_count": null,
      "metadata": {
        "id": "i1jQW7MavhOI"
      },
      "outputs": [],
      "source": [
        "# save the adata object\n",
        "adata.write_loom(f'./{pop}.loom')"
      ]
    }
  ],
  "metadata": {
    "colab": {
      "provenance": [],
      "authorship_tag": "ABX9TyPnIF+d4xooZyBPGyKGublR",
      "include_colab_link": true
    },
    "kernelspec": {
      "display_name": "Python 3",
      "name": "python3"
    },
    "language_info": {
      "name": "python"
    }
  },
  "nbformat": 4,
  "nbformat_minor": 0
}